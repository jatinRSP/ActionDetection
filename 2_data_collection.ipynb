{
 "cells": [
  {
   "cell_type": "code",
   "execution_count": 22,
   "id": "5f182c71-57f1-40c8-9941-248a67fa8a13",
   "metadata": {},
   "outputs": [],
   "source": [
    "# IMPORT AND INSTALL LIBRARIES\n",
    "\n",
    "# #tensorflow==2.5.1 \n",
    "# tensorflow-gpu==2.5.1 \n",
    "# opencv-python \n",
    "# mediapipe \n",
    "# scikit-learn \n",
    "# matplotlib\n",
    "\n",
    "import cv2\n",
    "import numpy as np\n",
    "import os\n",
    "from matplotlib import pyplot as plt\n",
    "import time\n",
    "import mediapipe as mp"
   ]
  },
  {
   "cell_type": "code",
   "execution_count": 23,
   "id": "6c7c0a21-69da-4cdb-8939-25c34fb53987",
   "metadata": {},
   "outputs": [],
   "source": [
    "# Function to detect poses\n",
    "\n",
    "def mediapipe_detection(image, model):\n",
    "    image = cv2.cvtColor(image, cv2.COLOR_BGR2RGB) # COLOR CONVERSION BGR 2 RGB\n",
    "    image.flags.writeable = False                  # Image is no longer writeable\n",
    "    results = model.process(image)                 # Make prediction\n",
    "    image.flags.writeable = True                   # Image is now writeable \n",
    "    image = cv2.cvtColor(image, cv2.COLOR_RGB2BGR) # COLOR COVERSION RGB 2 BGR\n",
    "    return image, results"
   ]
  },
  {
   "cell_type": "code",
   "execution_count": 24,
   "id": "d2ce7920-e367-46e8-9d30-606e597c306f",
   "metadata": {},
   "outputs": [],
   "source": [
    "# Function to draw landmarks with modified circle and line thickness\n",
    "\n",
    "def draw_styled_landmarks(image, results):\n",
    "    # Draw face connections\n",
    "    mp_drawing.draw_landmarks(image, results.face_landmarks, mp_holistic.FACEMESH_CONTOURS, \n",
    "                             mp_drawing.DrawingSpec(color=(80,110,10), thickness=1, circle_radius=1), \n",
    "                             mp_drawing.DrawingSpec(color=(80,256,121), thickness=1, circle_radius=1)\n",
    "                             ) \n",
    "    # Draw pose connections\n",
    "    mp_drawing.draw_landmarks(image, results.pose_landmarks, mp_holistic.POSE_CONNECTIONS,\n",
    "                             mp_drawing.DrawingSpec(color=(80,22,10), thickness=2, circle_radius=4), \n",
    "                             mp_drawing.DrawingSpec(color=(80,44,121), thickness=2, circle_radius=2)\n",
    "                             ) \n",
    "    # Draw left hand connections\n",
    "    mp_drawing.draw_landmarks(image, results.left_hand_landmarks, mp_holistic.HAND_CONNECTIONS, \n",
    "                             mp_drawing.DrawingSpec(color=(121,22,76), thickness=2, circle_radius=4), \n",
    "                             mp_drawing.DrawingSpec(color=(121,44,250), thickness=2, circle_radius=2)\n",
    "                             ) \n",
    "    # Draw right hand connections  \n",
    "    mp_drawing.draw_landmarks(image, results.right_hand_landmarks, mp_holistic.HAND_CONNECTIONS, \n",
    "                             mp_drawing.DrawingSpec(color=(245,117,66), thickness=2, circle_radius=4), \n",
    "                             mp_drawing.DrawingSpec(color=(245,66,230), thickness=2, circle_radius=2)\n",
    "                             ) "
   ]
  },
  {
   "cell_type": "code",
   "execution_count": 25,
   "id": "f98bf84d-905d-4c54-a537-beec19108827",
   "metadata": {},
   "outputs": [],
   "source": [
    "# function to extract keypoint values from the results\n",
    "\n",
    "def extract_keypoints(results):\n",
    "    pose = np.array([[res.x, res.y, res.z, res.visibility] for res in results.pose_landmarks.landmark]).flatten() if results.pose_landmarks else np.zeros(33*4)\n",
    "    face = np.array([[res.x, res.y, res.z] for res in results.face_landmarks.landmark]).flatten() if results.face_landmarks else np.zeros(468*3)\n",
    "    lh = np.array([[res.x, res.y, res.z] for res in results.left_hand_landmarks.landmark]).flatten() if results.left_hand_landmarks else np.zeros(21*3)\n",
    "    rh = np.array([[res.x, res.y, res.z] for res in results.right_hand_landmarks.landmark]).flatten() if results.right_hand_landmarks else np.zeros(21*3)\n",
    "    return np.concatenate([pose, face, lh, rh])"
   ]
  },
  {
   "cell_type": "code",
   "execution_count": 26,
   "id": "742dd1aa-699e-4df7-94e1-4796b475297b",
   "metadata": {},
   "outputs": [],
   "source": [
    "# function which will create directories to store the data\n",
    "\n",
    "def create_data_folders():\n",
    "    try:\n",
    "        # Create the root directory if it doesn't exist\n",
    "        os.makedirs(DATA_PATH)\n",
    "    except FileExistsError:\n",
    "        pass\n",
    "    \n",
    "    for action in actions:\n",
    "        action_path = os.path.join(DATA_PATH, action)\n",
    "        try:\n",
    "            # Create the action directory if it doesn't exist\n",
    "            os.makedirs(action_path)\n",
    "        except FileExistsError:\n",
    "            pass\n",
    "        \n",
    "        for sequence in range(no_sequences):\n",
    "            sequence_path = os.path.join(action_path, str(sequence))\n",
    "            try:\n",
    "                # Create the sequence directory if it doesn't exist\n",
    "                os.makedirs(sequence_path)\n",
    "            except FileExistsError:\n",
    "                pass\n",
    "    \n",
    "    print(\"Data folders created\")"
   ]
  },
  {
   "cell_type": "code",
   "execution_count": 7,
   "id": "e631cb53-8e6b-4d8a-ad9d-87d21769df5c",
   "metadata": {},
   "outputs": [],
   "source": [
    "# Function to start web cam and collect data\n",
    "\n",
    "def data_collection():\n",
    "    cap = cv2.VideoCapture(0)\n",
    "    # Set mediapipe model \n",
    "    with mp_holistic.Holistic(min_detection_confidence=0.5, min_tracking_confidence=0.5) as holistic:\n",
    "        \n",
    "        # NEW LOOP\n",
    "        # Loop through actions\n",
    "        for action in actions:\n",
    "            # Loop through sequences aka videos\n",
    "            for sequence in range(no_sequences):\n",
    "                # Loop through video length aka sequence length\n",
    "                for frame_num in range(sequence_length):\n",
    "    \n",
    "                    # Read feed\n",
    "                    ret, frame = cap.read()\n",
    "\n",
    "                    # Flip the frame\n",
    "                    frame = cv2.flip(frame, 1)\n",
    "    \n",
    "                    # Make detections\n",
    "                    image, results = mediapipe_detection(frame, holistic)\n",
    "    \n",
    "                    # Draw landmarks\n",
    "                    draw_styled_landmarks(image, results)\n",
    "                    \n",
    "                    # NEW Apply wait logic\n",
    "                    if frame_num == 0: \n",
    "                        cv2.putText(image, 'STARTING COLLECTION', (120,200), \n",
    "                                   cv2.FONT_HERSHEY_SIMPLEX, 1, (0,255, 0), 4, cv2.LINE_AA)\n",
    "                        cv2.putText(image, 'Collecting frames for {} Video Number {}'.format(action, sequence), (15,12), \n",
    "                                   cv2.FONT_HERSHEY_SIMPLEX, 0.5, (0, 0, 255), 1, cv2.LINE_AA)\n",
    "                        # Show to screen\n",
    "                        cv2.imshow('OpenCV Feed', image)\n",
    "                        cv2.waitKey(500)\n",
    "                    else: \n",
    "                        cv2.putText(image, 'Collecting frames for {} Video Number {}'.format(action, sequence), (15,12), \n",
    "                                   cv2.FONT_HERSHEY_SIMPLEX, 0.5, (0, 0, 255), 1, cv2.LINE_AA)\n",
    "                        # Show to screen\n",
    "                        cv2.imshow('OpenCV Feed', image)\n",
    "                    \n",
    "                    # NEW Export keypoints\n",
    "                    keypoints = extract_keypoints(results)\n",
    "                    npy_path = os.path.join(DATA_PATH, action, str(sequence), str(frame_num))\n",
    "                    np.save(npy_path, keypoints)\n",
    "    \n",
    "                    # Break gracefully\n",
    "                    if cv2.waitKey(10) & 0xFF == ord('q'):\n",
    "                        cap.release()\n",
    "                        cv2.destroyAllWindows()\n",
    "                        return\n",
    "\n",
    "    cap.release()\n",
    "    cv2.destroyAllWindows()\n",
    "\n",
    "    print(\"DATA COLLECTION DONE\")"
   ]
  },
  {
   "cell_type": "code",
   "execution_count": 27,
   "id": "9d6e9034-272f-4a57-98be-efe9154080f1",
   "metadata": {},
   "outputs": [],
   "source": [
    "# Setup Folders for Collection\n",
    "\n",
    "# Path for exported data, numpy arrays\n",
    "DATA_PATH = os.path.join('MP_Data') \n",
    "\n",
    "# Actions that we try to detect\n",
    "actions = np.array(['hello', 'thanks', 'jayShreeRam'])\n",
    "\n",
    "# Thirty videos worth of data\n",
    "no_sequences = 30\n",
    "\n",
    "# Videos are going to be 30 frames in length\n",
    "sequence_length = 30"
   ]
  },
  {
   "cell_type": "code",
   "execution_count": 28,
   "id": "d46c824f-f65d-4a44-8a97-c71e26543988",
   "metadata": {},
   "outputs": [],
   "source": [
    "# MediaPipe Pose model and drawing utilities\n",
    "\n",
    "mp_holistic = mp.solutions.holistic # Holistic model\n",
    "mp_drawing = mp.solutions.drawing_utils # Drawing utilities"
   ]
  },
  {
   "cell_type": "code",
   "execution_count": 29,
   "id": "db3df68f-dded-44f9-b713-df8e908a7e65",
   "metadata": {},
   "outputs": [
    {
     "name": "stdout",
     "output_type": "stream",
     "text": [
      "Data folders created\n"
     ]
    }
   ],
   "source": [
    "create_data_folders()"
   ]
  },
  {
   "cell_type": "code",
   "execution_count": 16,
   "id": "4b24dc1c-6349-4c27-9e6a-16cfc79172f0",
   "metadata": {},
   "outputs": [
    {
     "name": "stdout",
     "output_type": "stream",
     "text": [
      "DATA COLLECTION DONE\n"
     ]
    }
   ],
   "source": [
    "data_collection()"
   ]
  },
  {
   "cell_type": "markdown",
   "id": "85030357-f857-4792-9443-669272adf488",
   "metadata": {},
   "source": [
    "NOW ONWARDS DATA PREPROCESSING AND MODEL TRAINING WILL START"
   ]
  },
  {
   "cell_type": "code",
   "execution_count": 30,
   "id": "16242198-992f-41cb-921b-87acf100ba4c",
   "metadata": {},
   "outputs": [],
   "source": [
    "# IMPORT LIBRARIES\n",
    "\n",
    "from sklearn.model_selection import train_test_split\n",
    "from tensorflow.keras.utils import to_categorical"
   ]
  },
  {
   "cell_type": "code",
   "execution_count": 31,
   "id": "e116c578-a99d-4fa3-a51d-e347f5c1f449",
   "metadata": {},
   "outputs": [],
   "source": [
    "# Setup for data pre processing\n",
    "\n",
    "# Path for exported data, numpy arrays\n",
    "DATA_PATH = os.path.join('MP_Data') \n",
    "\n",
    "# Actions that we try to detect\n",
    "actions = np.array(['hello', 'thanks', 'jayShreeRam'])\n",
    "\n",
    "# Thirty videos worth of data\n",
    "no_sequences = 30\n",
    "\n",
    "# Videos are going to be 30 frames in length\n",
    "sequence_length = 30\n",
    "\n",
    "# Label map for labeling all action from 0 to 2 (0 to n)\n",
    "label_map = {label:num for num, label in enumerate(actions)}"
   ]
  },
  {
   "cell_type": "code",
   "execution_count": 48,
   "id": "880270da-38a5-4e61-8752-8ff69075ca41",
   "metadata": {},
   "outputs": [],
   "source": [
    "# Method for loading data from folders\n",
    "\n",
    "def load_data():\n",
    "    sequences, labels = [], []\n",
    "    for action in actions:\n",
    "        for sequence in np.array(os.listdir(os.path.join(DATA_PATH, action))).astype(int):\n",
    "            window = []\n",
    "            for frame_num in range(sequence_length):\n",
    "                res = np.load(os.path.join(DATA_PATH, action, str(sequence), \"{}.npy\".format(frame_num)))\n",
    "                window.append(res)\n",
    "            sequences.append(window)\n",
    "            labels.append(label_map[action])\n",
    "    return sequences, labels"
   ]
  },
  {
   "cell_type": "code",
   "execution_count": 58,
   "id": "ee85b741-d825-46cd-a3c0-f941955f9ddf",
   "metadata": {},
   "outputs": [],
   "source": [
    "sequences,labels=load_data()"
   ]
  },
  {
   "cell_type": "code",
   "execution_count": 59,
   "id": "49b63def-b590-4506-9629-0ade53e030b1",
   "metadata": {},
   "outputs": [],
   "source": [
    "X = np.array(sequences)"
   ]
  },
  {
   "cell_type": "code",
   "execution_count": 60,
   "id": "6a635735-38df-4529-91b5-314cbca6edf0",
   "metadata": {},
   "outputs": [
    {
     "data": {
      "text/plain": [
       "(450, 30, 1662)"
      ]
     },
     "execution_count": 60,
     "metadata": {},
     "output_type": "execute_result"
    }
   ],
   "source": [
    "x.shape"
   ]
  },
  {
   "cell_type": "code",
   "execution_count": null,
   "id": "a3c431fd-ca16-4572-9f46-6a9cd5270263",
   "metadata": {},
   "outputs": [],
   "source": []
  }
 ],
 "metadata": {
  "kernelspec": {
   "display_name": "Python 3 (ipykernel)",
   "language": "python",
   "name": "python3"
  },
  "language_info": {
   "codemirror_mode": {
    "name": "ipython",
    "version": 3
   },
   "file_extension": ".py",
   "mimetype": "text/x-python",
   "name": "python",
   "nbconvert_exporter": "python",
   "pygments_lexer": "ipython3",
   "version": "3.9.0"
  }
 },
 "nbformat": 4,
 "nbformat_minor": 5
}
